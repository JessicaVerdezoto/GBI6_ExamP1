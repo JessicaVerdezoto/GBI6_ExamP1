{
 "cells": [
  {
   "cell_type": "markdown",
   "metadata": {},
   "source": [
    "<img src=\"https://www.ikiam.edu.ec/img/logo-ikiam-grey.png\" width=300 height=240 />\n",
    "\n",
    "# EXAMEN PARCIAL 1\n",
    "\n",
    "## GBI6-2021II: BIOINFORMÁTICA\n",
    "\n",
    "**Verdezoto Prado, Jessica Jacqueline** \n",
    "\n",
    "**11-01-2021**"
   ]
  },
  {
   "cell_type": "markdown",
   "metadata": {},
   "source": [
    "# 1. UNIX\n",
    "\n",
    "## Ejercicio 1\n",
    "1. Imprimir el directorio de trabajo actual \n",
    "2. Crear un directorio test1\n",
    "3. No cambie de directorio, pero los items 4, 5 y 6 deben guardarse en el directorio creado en el paso 2. \n",
    "4. Crear el archivo test1.txt\n",
    "5. Guardar el texto Hola GBI6 en un archivo test2.txt\n",
    "6. Guardar la instrucción print(\"Hola GBI6\")  en el archivo test1.py\n",
    "\n",
    "\n",
    "\n",
    "<img src=\"data1/Ejercicio_1.jpg\" width=591 height=545 />\n",
    "\n",
    "\n",
    "## Ejercicio 2\n",
    "Seleccione la opción de código que imprime el directorio de trabajo actual\n",
    "\n",
    "\n",
    "<img src=\"data1/Ejercicio_2.jpg\" width=506 height=233 />\n",
    "\n",
    "\n",
    "\n",
    "## Ejercicio 3\n",
    "\n",
    "1. Imprimir el directorio de trabajo actual \n",
    "2. Crear un directorio test1\n",
    "3. No cambie de directorio, pero los items 4, 5 y 6 deben guardarse en el directorio creado en el paso 2. \n",
    "4. Crear el archivo test1.txt\n",
    "5. Guardar el texto Hola GBI6 en un archivo test2.txt\n",
    "6. Guardar la instrucción print(\"Hola GBI6\")  en el archivo test1.py\n",
    "\n",
    "\n",
    "<img src=\"data1/Ejercicio_3.jpg\" width=489 height=601 />\n",
    "\n",
    "\n",
    "\n",
    "## Ejercicio 4\n",
    "Resuelva el ejercicio 1.10.3 Plant–Pollinator Networks. \n",
    "\n",
    "- Resuelva el ejercicio en un documento de nombre ejercicio_1103.sh\n",
    "- Cargue el documento ejercicio_1103.sh en GitHub utilizando git push. \n",
    "- Realice el video explicativo de la resolución ejercicio y guarde en YouTube en formato \"Público\" o \"Unlisted\", y pegue el enlace en el cuaderno de Jupyter."
   ]
  },
  {
   "cell_type": "code",
   "execution_count": 7,
   "metadata": {},
   "outputs": [
    {
     "data": {
      "text/html": [
       "<iframe width=\"560\" height=\"315\" src=\"https://www.youtube.com/embed/9ck5iEP03g4\" title=\"YouTube video player\" frameborder=\"0\" allow=\"accelerometer; autoplay; clipboard-write; encrypted-media; gyroscope; picture-in-picture\" allowfullscreen></iframe>"
      ],
      "text/plain": [
       "<IPython.core.display.HTML object>"
      ]
     },
     "execution_count": 7,
     "metadata": {},
     "output_type": "execute_result"
    }
   ],
   "source": [
    "# Coloque aquí su video del ejercicio 4\n",
    "from IPython.display import HTML\n",
    "HTML('<iframe width=\"493\" height=\"409\" src=\"https://www.youtube.com/embed/MlmwMi7VDlg\" title=\"YouTube video player\" frameborder=\"0\" allow=\"accelerometer; autoplay; clipboard-write; encrypted-media; gyroscope; picture-in-picture\" allowfullscreen></iframe>')"
   ]
  },
  {
   "cell_type": "markdown",
   "metadata": {},
   "source": [
    "\n",
    "## Ejercicio 5\n",
    "Resuelva el ejercicio 1.10.1 Next Generation Sequencing Data. \n",
    "\n",
    "- Resuelva el ejercicio en un documento de nombre ejercicio_1101.sh\n",
    "- Cargue el documento ejercicio_1101.sh en GitHub utilizando git push. \n",
    "- Realice el video explicativo de la resolución ejercicio y guarde en YouTube en formato \"Público\" o \"Unlisted\", y pegue el enlace en el cuaderno de Jupyter.\n"
   ]
  },
  {
   "cell_type": "code",
   "execution_count": 5,
   "metadata": {},
   "outputs": [
    {
     "data": {
      "text/html": [
       "<iframe width=\"560\" height=\"315\" src=\"https://www.youtube.com/embed/3XlZWpLwvvo\" title=\"YouTube video player\" frameborder=\"0\" allow=\"accelerometer; autoplay; clipboard-write; encrypted-media; gyroscope; picture-in-picture\" allowfullscreen></iframe>"
      ],
      "text/plain": [
       "<IPython.core.display.HTML object>"
      ]
     },
     "execution_count": 5,
     "metadata": {},
     "output_type": "execute_result"
    }
   ],
   "source": [
    "# Coloque aquí su video del ejercicio 5\n",
    "from IPython.display import HTML\n",
    "HTML(<iframe width=\"493\" height=\"409\" src=\"https://www.youtube.com/embed/mAuWJbp5iZM\" title=\"YouTube video player\" frameborder=\"0\" allow=\"accelerometer; autoplay; clipboard-write; encrypted-media; gyroscope; picture-in-picture\" allowfullscreen></iframe>)\n"
   ]
  },
  {
   "cell_type": "markdown",
   "metadata": {
    "jp-MarkdownHeadingCollapsed": true,
    "tags": []
   },
   "source": [
    "\n",
    "\n",
    "# 2. CONTROL DE LA VERSIÓN\n",
    "## Pregunta 6\n",
    "1. Cree en GitHub un repositorio de nombre ```GBI6_ExamenParcial1```. \n",
    "2. Cree un archivo ```Readme.md``` que debe tener lo siguiente: \n",
    "- Datos personales\n",
    "- Características del computador\n",
    "- Programas utilizados\n",
    "- Explicación de la data utilizada\n",
    "\n",
    "\n",
    "## Pregunta 7\n",
    "1. Cada vez que resuelva un ejercicio (del 1 al 10), utilizando Git Bash, GitHub Desktop o Atom realice un *git push* con el mensaje: \n",
    "\n",
    "\n",
    "2. Coloque aquí las capturas de pantalla para cada git push realizado desde Git Bash, GitHub Desktop o Atom. \n",
    "\n",
    "- Control de versión ejercicio 1\n",
    "\n",
    "<img src=\"data1/Eje_1.jpg\" width=867 height=366 />\n",
    "\n",
    "- Control de versión ejercicio 2\n",
    "\n",
    "<img src=\"data1/Eje_2.jpg\" width=953 height=247 />\n",
    "\n",
    "- Control de versión ejercicio 3\n",
    "\n",
    "<img src=\"data1/Eje_3.jpg\" width=960 height=206 />\n",
    "\n",
    "- Control de versión ejercicio 4\n",
    "\n",
    "<img src=\"data1/Eje_4_1.10.3.jpg\" width=953 height=556 />\n",
    "\n",
    "- Control de versión ejercicio 5\n",
    "\n",
    "<img src=\"data1/Eje_5_1.10.1.jpg\" width=962 height=648 />\n",
    "\n",
    "- Control de versión ejercicio 8\n",
    "\n",
    "<img src=\"data1/Eje_6.jpg\" width=851 height=580 />\n",
    "\n",
    "- Control de versión ejercicio 9\n",
    "\n",
    "<img src=\"data1/Eje_7.jpg\" width=908 height=592 />\n",
    "\n",
    "- Control de versión ejercicio 10\n",
    "\n",
    "<img src=\"data1/Eje_8.jpg\" width=831 height=577 />\n",
    "\n",
    "\n",
    "3. Cree un directorio de nombre ```data``` donde deben estar guardados: (i) la data utilizada y (ii) las capturas de pantalla de los ejercicios 1 al 3 y los git push del ejercicio 1 al 10 (en total debe tener 13 imágenes). \n",
    "4. Inserte aquí el enlace de su repositorio (válido para el ejercicio 6 y 7): [GitHub Repository: GBI6_ExamenParcial1](https://github.com/gualapuromoises/2021_gbi6.git) (este enlace es de ejemplo)"
   ]
  },
  {
   "cell_type": "markdown",
   "metadata": {},
   "source": [
    "# 3. INTRODUCCIÓN A PYTHON\n",
    "\n",
    "## Ejercicio 8\n",
    "\n",
    "En la data https://github.com/sap0408/mtcars/blob/master/mtcars.csv, seleccione los 10 primeros registros y cree una lista de nombre lista1."
   ]
  },
  {
   "cell_type": "code",
   "execution_count": null,
   "metadata": {},
   "outputs": [],
   "source": [
    "import numpy as np\n",
    "import pandas as pd\n",
    "db = pd.read_csv('data/mtcars.csv', na_values='Not Provided')\n",
    "db = db.iloc[0:10]\n",
    "db\n",
    "lista1 = list(db['model'])\n",
    "\n",
    "lista1\n",
    "lista1[3]\n",
    "#Hornet 4 Drive\n",
    "lista1[4]\n",
    "#Hornet Sportabout\n",
    "lista1.append([\"gbi6\",\"bio1\",\"ikiam\"])\n",
    "#no retorna nada solo anade\n",
    "len(lista1)\n",
    "#11\n",
    "lista1[2:5]\n",
    "#['Datsun','Hornet 4 Drive','Hornet Sportabout']\n",
    "lista1.append([\"gbi6\",\"bio1\",\"ikiam\"])\n",
    "#no retorna nada solo anade\n",
    "lista1[-1][-3]\n",
    "#'gbi6'\n"
   ]
  },
  {
   "cell_type": "markdown",
   "metadata": {},
   "source": [
    "## Ejercicio 9\n",
    "\n"
   ]
  },
  {
   "cell_type": "code",
   "execution_count": null,
   "metadata": {},
   "outputs": [],
   "source": []
  },
  {
   "cell_type": "markdown",
   "metadata": {},
   "source": [
    "## Ejercicio 10\n",
    "\n",
    "Escriba aquí el enunciado"
   ]
  },
  {
   "cell_type": "code",
   "execution_count": null,
   "metadata": {},
   "outputs": [],
   "source": [
    "# Escriba aquí el código"
   ]
  }
 ],
 "metadata": {
  "kernelspec": {
   "display_name": "Python 3 (ipykernel)",
   "language": "python",
   "name": "python3"
  },
  "language_info": {
   "codemirror_mode": {
    "name": "ipython",
    "version": 3
   },
   "file_extension": ".py",
   "mimetype": "text/x-python",
   "name": "python",
   "nbconvert_exporter": "python",
   "pygments_lexer": "ipython3",
   "version": "3.9.7"
  },
  "latex_envs": {
   "LaTeX_envs_menu_present": true,
   "autoclose": false,
   "autocomplete": true,
   "bibliofile": "biblio.bib",
   "cite_by": "apalike",
   "current_citInitial": 1,
   "eqLabelWithNumbers": true,
   "eqNumInitial": 1,
   "hotkeys": {
    "equation": "Ctrl-E",
    "itemize": "Ctrl-I"
   },
   "labels_anchors": false,
   "latex_user_defs": false,
   "report_style_numbering": false,
   "user_envs_cfg": false
  },
  "toc": {
   "base_numbering": 1,
   "nav_menu": {},
   "number_sections": true,
   "sideBar": false,
   "skip_h1_title": false,
   "title_cell": "Table of Contents",
   "title_sidebar": "Contents",
   "toc_cell": false,
   "toc_position": {
    "height": "1152.67px",
    "left": "41px",
    "top": "110px",
    "width": "253.458px"
   },
   "toc_section_display": true,
   "toc_window_display": false
  },
  "varInspector": {
   "cols": {
    "lenName": 16,
    "lenType": 16,
    "lenVar": 40
   },
   "kernels_config": {
    "python": {
     "delete_cmd_postfix": "",
     "delete_cmd_prefix": "del ",
     "library": "var_list.py",
     "varRefreshCmd": "print(var_dic_list())"
    },
    "r": {
     "delete_cmd_postfix": ") ",
     "delete_cmd_prefix": "rm(",
     "library": "var_list.r",
     "varRefreshCmd": "cat(var_dic_list()) "
    }
   },
   "types_to_exclude": [
    "module",
    "function",
    "builtin_function_or_method",
    "instance",
    "_Feature"
   ],
   "window_display": false
  }
 },
 "nbformat": 4,
 "nbformat_minor": 4
}
