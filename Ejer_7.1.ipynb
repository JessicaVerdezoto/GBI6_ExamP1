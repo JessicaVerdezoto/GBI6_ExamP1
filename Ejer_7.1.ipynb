{
 "cells": [
  {
   "cell_type": "code",
   "execution_count": null,
   "metadata": {},
   "outputs": [],
   "source": [
    "import numpy as np\n",
    "import pandas as pd\n",
    "#Ejercicio_7"
   ]
  },
  {
   "cell_type": "code",
   "execution_count": null,
   "metadata": {},
   "outputs": [],
   "source": [
    "#Crea un diccionario de nombre dic_genomas donde se tenga la informacion de la tabla 1 que se encuentra en\n",
    "#https://www.nature.com/scitable/topicpage/eukaryotic-genome-complexity-437/"
   ]
  },
  {
   "cell_type": "code",
   "execution_count": null,
   "metadata": {},
   "outputs": [],
   "source": [
    "#Utilice como \"key\" los valores especie de la columna \"Species and Common Name\" y las otras dos columnas igrese como \"values\"\n",
    "\n",
    "dic_genomas = {'Saccharomyces cerevisiae (unicellular budding yeast)':    {0: '12 million',\n",
    "                                                             1: '6,000'}, \n",
    " 'Trichomonas vaginalis':                                   {0: '160 million',\n",
    "                                                             1: '60,000'},\n",
    " 'Plasmodium falciparum (unicellular malaria parasite)':    {0: '23 million',\n",
    "                                                             1: '5,000'},\n",
    " 'Caenorhabditis elegans (nematode)':                       {0: '95.5 million',\n",
    "                                                             1: '18,000'},\n",
    " 'Drosophila melanogaster (fruit fly)':                     {0: '170 million',\n",
    "                                                             1: '14,000'},\n",
    " 'Arabidopsis thaliana (mustard; thale cress)':             {0: '125 million',\n",
    "                                                             1: '25,000'},\n",
    " 'Oryza sativa (rice)':                                     {0: '470 million',\n",
    "                                                             1: '51,000'},\n",
    " 'Gallus gallus (chicken)':                                  {0: '1 billion',\n",
    "                                                             1: '20,000-23,000'},\n",
    " 'Canis familiaris (domestic dog)':                          {0: '2.4 billion',\n",
    "                                                             1: '19,000'},\n",
    " 'Mus musculus (laboratory mouse)':                         {0: '2.5 billion',\n",
    "                                                             1: '30,000'},\n",
    " 'Homo sapiens (human)':                                     {0: '2.9 billion',\n",
    "                                                             1: '20,000-25,000'}}\n",
    "                                                            "
   ]
  }
 ],
 "metadata": {
  "language_info": {
   "name": "plaintext"
  },
  "orig_nbformat": 4
 },
 "nbformat": 4,
 "nbformat_minor": 2
}
