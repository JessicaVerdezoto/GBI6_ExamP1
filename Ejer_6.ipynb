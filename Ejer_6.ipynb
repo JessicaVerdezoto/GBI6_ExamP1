{
 "cells": [
  {
   "cell_type": "code",
   "execution_count": null,
   "metadata": {},
   "outputs": [],
   "source": [
    "import numpy as np\n",
    "import pandas as pd\n",
    "\n",
    "#Ejercicio 6\n",
    "#Seleccionar los 10 primeros registros y crear una lista de nombre lista_1"
   ]
  },
  {
   "cell_type": "code",
   "execution_count": null,
   "metadata": {},
   "outputs": [],
   "source": [
    "db = pd.read_csv('data/mtcars.csv', na_values='Not Provided')\n",
    "db = db.iloc[0:10]\n",
    "db\n",
    "# Se transforma el archivo csv a dataframe y se selecciona los 10 primero valores "
   ]
  },
  {
   "cell_type": "code",
   "execution_count": null,
   "metadata": {},
   "outputs": [],
   "source": [
    "lista1 = list(db['model'])\n",
    "#Se transforma data frame a lista y se ordena por filas \n",
    "lista1\n"
   ]
  },
  {
   "cell_type": "code",
   "execution_count": null,
   "metadata": {},
   "outputs": [],
   "source": [
    "lista1[3]\n",
    "#Hornet 4 Drive"
   ]
  },
  {
   "cell_type": "code",
   "execution_count": null,
   "metadata": {},
   "outputs": [],
   "source": [
    "lista1[4]\n",
    "#Hornet Sportabout"
   ]
  },
  {
   "cell_type": "code",
   "execution_count": null,
   "metadata": {},
   "outputs": [],
   "source": [
    "lista1.append([\"gbi6\",\"bio1\",\"ikiam\"])\n",
    "#no retorna nada solo anade\n"
   ]
  }
 ],
 "metadata": {
  "language_info": {
   "name": "plaintext"
  },
  "orig_nbformat": 4
 },
 "nbformat": 4,
 "nbformat_minor": 2
}
