{
 "cells": [
  {
   "cell_type": "code",
   "execution_count": null,
   "metadata": {},
   "outputs": [],
   "source": [
    "import numpy as np\n",
    "import pandas as pd\n",
    "\n",
    "#Ejercicio 6\n",
    "#Seleccionar los 10 primeros registros y crear una lista de nombre lista_1"
   ]
  },
  {
   "cell_type": "code",
   "execution_count": null,
   "metadata": {},
   "outputs": [],
   "source": [
    "db = pd.read_csv('data/mtcars.csv', na_values='Not Provided')\n",
    "db = db.iloc[0:10]\n",
    "db\n",
    "# Se transforma el archivo csv a dataframe y se selecciona los 10 primero valores "
   ]
  },
  {
   "cell_type": "code",
   "execution_count": null,
   "metadata": {},
   "outputs": [],
   "source": [
    "\tmodel\tmpg\tcyl\tdisp\thp\tdrat\twt\tqsec\tvs\tam\tgear\tcarb\n",
    "0\tMazda RX4\t21.0\t6\t160.0\t110\t3.90\t2.620\t16.46\t0\t1\t4\t4\n",
    "1\tMazda RX4 Wag\t21.0\t6\t160.0\t110\t3.90\t2.875\t17.02\t0\t1\t4\t4\n",
    "2\tDatsun 710\t22.8\t4\t108.0\t93\t3.85\t2.320\t18.61\t1\t1\t4\t1\n",
    "3\tHornet 4 Drive\t21.4\t6\t258.0\t110\t3.08\t3.215\t19.44\t1\t0\t3\t1\n",
    "4\tHornet Sportabout\t18.7\t8\t360.0\t175\t3.15\t3.440\t17.02\t0\t0\t3\t2\n",
    "5\tValiant\t18.1\t6\t225.0\t105\t2.76\t3.460\t20.22\t1\t0\t3\t1\n",
    "6\tDuster 360\t14.3\t8\t360.0\t245\t3.21\t3.570\t15.84\t0\t0\t3\t4\n",
    "7\tMerc 240D\t24.4\t4\t146.7\t62\t3.69\t3.190\t20.00\t1\t0\t4\t2\n",
    "8\tMerc 230\t22.8\t4\t140.8\t95\t3.92\t3.150\t22.90\t1\t0\t4\t2\n",
    "9\tMerc 280\t19.2\t6\t167.6\t123\t3.92\t3.440\t18.30\t1\t0\t4\t4"
   ]
  },
  {
   "cell_type": "code",
   "execution_count": null,
   "metadata": {},
   "outputs": [],
   "source": [
    "lista1 = list(db['model'])\n",
    "#Se transforma data frame a lista y se ordena por filas \n",
    "lista1\n"
   ]
  },
  {
   "cell_type": "code",
   "execution_count": null,
   "metadata": {},
   "outputs": [],
   "source": [
    "lista1[3]\n",
    "#Hornet 4 Drive"
   ]
  },
  {
   "cell_type": "code",
   "execution_count": null,
   "metadata": {},
   "outputs": [],
   "source": []
  }
 ],
 "metadata": {
  "language_info": {
   "name": "plaintext"
  },
  "orig_nbformat": 4
 },
 "nbformat": 4,
 "nbformat_minor": 2
}
